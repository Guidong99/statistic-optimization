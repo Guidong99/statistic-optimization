{
  "nbformat": 4,
  "nbformat_minor": 0,
  "metadata": {
    "colab": {
      "name": "NEB.ipynb",
      "private_outputs": true,
      "provenance": [],
      "authorship_tag": "ABX9TyOZ1KI7MdQtHo4W5A8CnURK",
      "include_colab_link": true
    },
    "kernelspec": {
      "name": "python3",
      "display_name": "Python 3"
    },
    "language_info": {
      "name": "python"
    }
  },
  "cells": [
    {
      "cell_type": "markdown",
      "metadata": {
        "id": "view-in-github",
        "colab_type": "text"
      },
      "source": [
        "<a href=\"https://colab.research.google.com/github/Guidong99/statistic-optimization/blob/main/NEB.ipynb\" target=\"_parent\"><img src=\"https://colab.research.google.com/assets/colab-badge.svg\" alt=\"Open In Colab\"/></a>"
      ]
    },
    {
      "cell_type": "code",
      "metadata": {
        "id": "Uy6rClrlHDux"
      },
      "source": [
        "#@title\n",
        "from numpy import transpose as t\n",
        "from numpy import array as array\n",
        "import numpy as np\n",
        "import pandas as pd\n",
        "from scipy.optimize import minimize,Bounds,LinearConstraint\n",
        "from scipy.special import gamma\n",
        "from math import exp,pi,log\n",
        "import matplotlib.pyplot as plt\n",
        "from scipy.stats import norm\n",
        "def gaussian(x,mu,sigma2):\n",
        "  return 1/(2*pi*sigma2)*exp(-(x-mu)**2/2*sigma2)\n",
        "def chi_square(x,k):\n",
        "  return (x**(k/2-1)*exp(-x/2))/(2**(k/2)*gamma(k/2)) if x>0 else 0\n",
        "def generate_C(x,s2,a,b):\n",
        "  m,K,S=len(x),len(a),len(b)\n",
        "  C=[]\n",
        "  c=[[0]*S for i in range(K)]\n",
        "  for r in range(m):\n",
        "    for i in range(K):\n",
        "      for j in range(S):\n",
        "        c[i][j]=gaussian(x[r],a[i],b[j])*chi_square((n-1)*s2[r]/b[j],n-1)\n",
        "    C.append(array(c))\n",
        "  return C\n",
        "\n"
      ],
      "execution_count": null,
      "outputs": []
    },
    {
      "cell_type": "markdown",
      "metadata": {
        "id": "gAnYqUz8VSvY"
      },
      "source": [
        "#NEB(Nonelinear Empirical Bayes) class\n",
        "### 1.arguments:\n",
        "x\n",
        "s2\n",
        "a\n",
        "b\n",
        "### 2.functions:\n",
        "objection function\n",
        "\n",
        "gradient\n",
        "\n",
        "hessian\n",
        "\n"
      ]
    },
    {
      "cell_type": "code",
      "metadata": {
        "id": "K11XRNP7HGDL"
      },
      "source": [
        "#@title\n",
        "class NEB():\n",
        "  def __init__(self,a,b,C,n):\n",
        "    # self.x=x\n",
        "    # self.s2=s2\n",
        "    self.a=a\n",
        "    self.b=b\n",
        "    self.C=C\n",
        "    self.n=n\n",
        "\n",
        "  def obj(self):\n",
        "    k=len(self.a)\n",
        "    C=self.C\n",
        "    def obj(u):\n",
        "      res=0\n",
        "      for r in range(len(C)):\n",
        "        res=res*t(u[:k])@C[r]@u[k:]\n",
        "      return -log(res)\n",
        "    return obj\n",
        "  \n",
        "  def gradient(self):\n",
        "    C=self.C\n",
        "    K=len(self.a)\n",
        "    def l_gradient(g,h,r,i,tp):\n",
        "      if tp=='g':\n",
        "        res=(C[r][i]@h)/(t(g)@C[r]@h)\n",
        "      if tp=='h':\n",
        "        res=(t(g)@C[r][:,i])/(t(g)@C[r]@h)\n",
        "      return res\n",
        "    def gradient(u):\n",
        "      g,h=u[:K],u[K:]\n",
        "      res=[]\n",
        "      for i in range(len(u)):\n",
        "        if i<K:\n",
        "          s=sum(l_gradient(g,h,r,i,'g') for r in range(len(C)))\n",
        "        else:\n",
        "          s=sum(l_gradient(g,h,r,i-K,'h') for r in range(len(C)))\n",
        "        res.append(s)\n",
        "      return res\n",
        "    return gradient\n",
        "\n",
        "  def Hess(self):\n",
        "    K=len(self.a)\n",
        "    C=self.C\n",
        "    def Hess(u):\n",
        "      T=len(u)\n",
        "      hess=[[0]*T for i in range(T)]\n",
        "      g,h=u[:K],u[K:]\n",
        "      def H11(i,j):\n",
        "        return -sum((t(h)@C[r][i])*(C[r][j]@h)/(t(g)@C[r]@h)**2 for r in range(len(C)))\n",
        "      def H22(i,j):\n",
        "        return -sum(t(g)@C[r][:,i]*t(C[r][:,j])@g/(t(g)@C[r]@h)**2 for r in range(len(C)))\n",
        "      def H12(i,j):\n",
        "        return sum(C[r][i][j]/(t(g)@C[r]@h)-t(g)@C[r][:,j]*C[r][i]@h/(t(g)@C[r]@h)**2 for r in range(len(C)))\n",
        "      def H21(i,j):\n",
        "        return sum(C[r][j][i]/(t(g)@C[r]@h)-t(g)@C[r][:,i]*C[r][j]@h/(t(g)@C[r]@h)**2 for r in range(len(C)))\n",
        "      for i in range(T):\n",
        "        for j in range(T):\n",
        "          if i<K:\n",
        "            if j<K: hess[i][j]=H11(i,j)\n",
        "            else: hess[i][j]=H12(i,j-K)\n",
        "          else:\n",
        "            if j<K: hess[i][j]=H21(i-K,j)\n",
        "            else: hess[i][j]=H22(i-K,j-K)\n",
        "      return hess\n",
        "    return Hess\n",
        "  def constraints(self):\n",
        "    constraint=[]\n",
        "    K,S=len(self.a),len(self.b)\n",
        "    constraint.append([1]*K+[0]*S)\n",
        "    constraint.append([0]*K+[1]*S)\n",
        "    bound0,bound1=[0]*(K+S),[np.inf]*(K+S)\n",
        "    return constraint,bound0,bound1\n"
      ],
      "execution_count": null,
      "outputs": []
    },
    {
      "cell_type": "markdown",
      "metadata": {
        "id": "sLGMxwsXW7Rx"
      },
      "source": [
        "#Example"
      ]
    },
    {
      "cell_type": "code",
      "metadata": {
        "collapsed": true,
        "id": "tQIcBArXVBbP"
      },
      "source": [
        "np.random.seed(10086)\n",
        "m=500\n",
        "mu=[0]*m\n",
        "pi0=0.5\n",
        "mu[:round(pi0*m)]=np.random.normal(size=round(pi0*m))\n",
        "s=[1]*m\n",
        "n=10\n",
        "data=np.zeros([m,n]) \n",
        "for i in range(m):\n",
        "  data[i]=np.random.normal(mu[i],s[i],n)\n",
        "x=data.mean(axis=1)\n",
        "s2=data.std(axis=1)**2/n\n",
        "K=20\n",
        "a=(max(abs(x))/K)*np.linspace(-K/2,K/2,K)\n",
        "S=10\n",
        "b=np.linspace(min(s2),max(s2),L)\n",
        "\n",
        " \n",
        " \n",
        "\n",
        "s=NEB(a,b,generate_C(x,s2,a,b),n)\n",
        "Obj=s.obj()\n",
        "Grad=s.gradient()\n",
        "Hess=s.Hess()\n",
        "constraints,bound0,bound1=s.constraints()\n",
        "x0=[1]*(K+S)"
      ],
      "execution_count": null,
      "outputs": []
    },
    {
      "cell_type": "code",
      "metadata": {
        "id": "-3st9hVB_xBy"
      },
      "source": [
        "# pd.DataFrame(generate_C(x,s2,a,b)[0])\n",
        "len(generate_C(x,s2,a,b))"
      ],
      "execution_count": null,
      "outputs": []
    },
    {
      "cell_type": "markdown",
      "metadata": {
        "id": "NLpaZyptXWN8"
      },
      "source": [
        "#Tools Camparing"
      ]
    },
    {
      "cell_type": "code",
      "metadata": {
        "id": "JNbc6O2OXwCt"
      },
      "source": [
        "# bound1\n",
        "\n",
        "linear_constraint=LinearConstraint(constraints,[1,1],[1,1])\n",
        "bounds=Bounds(bound0,bound1)"
      ],
      "execution_count": null,
      "outputs": []
    },
    {
      "cell_type": "code",
      "metadata": {
        "id": "L-3UhkpRHwwq"
      },
      "source": [
        "res = minimize(Obj, x0, method='trust-constr', jac=Grad, hess=Hess,\n",
        "               constraints=linear_constraint,\n",
        "               options={'verbose': 1}, bounds=bounds)\n",
        "\n",
        "u=res.x"
      ],
      "execution_count": null,
      "outputs": []
    },
    {
      "cell_type": "markdown",
      "metadata": {
        "id": "KulPkp9QyrlS"
      },
      "source": [
        ""
      ]
    },
    {
      "cell_type": "code",
      "metadata": {
        "id": "kjmKCPoLytwi"
      },
      "source": [
        "u[:K]\n",
        "\n",
        "\n",
        "plt.plot(u[:K])"
      ],
      "execution_count": null,
      "outputs": []
    },
    {
      "cell_type": "code",
      "metadata": {
        "id": "L-olK4rO0FhA"
      },
      "source": [
        "s=N"
      ],
      "execution_count": null,
      "outputs": []
    },
    {
      "cell_type": "code",
      "metadata": {
        "id": "SnhVheorz0uG"
      },
      "source": [
        ""
      ],
      "execution_count": null,
      "outputs": []
    }
  ]
}