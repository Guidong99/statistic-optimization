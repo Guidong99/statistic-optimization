{
  "nbformat": 4,
  "nbformat_minor": 0,
  "metadata": {
    "colab": {
      "name": "NEB.ipynb",
      "provenance": [],
      "authorship_tag": "ABX9TyPqSDHylnKpafElyNxS6Rr1",
      "include_colab_link": true
    },
    "kernelspec": {
      "name": "python3",
      "display_name": "Python 3"
    },
    "language_info": {
      "name": "python"
    }
  },
  "cells": [
    {
      "cell_type": "markdown",
      "metadata": {
        "id": "view-in-github",
        "colab_type": "text"
      },
      "source": [
        "<a href=\"https://colab.research.google.com/github/Guidong99/statistic-optimization/blob/main/NEB.ipynb\" target=\"_parent\"><img src=\"https://colab.research.google.com/assets/colab-badge.svg\" alt=\"Open In Colab\"/></a>"
      ]
    },
    {
      "cell_type": "code",
      "metadata": {
        "id": "Uy6rClrlHDux"
      },
      "source": [
        "#@title\n",
        "from numpy import transpose as t\n",
        "from numpy import array as array\n",
        "import numpy as np\n",
        "import pandas as pd\n",
        "from scipy.optimize import minimize,Bounds,LinearConstraint\n",
        "from scipy.special import gamma\n",
        "from math import exp,pi\n",
        "import matplotlib.pyplot as plt\n",
        "from scipy.stats import norm\n",
        "def gaussian(x,mu,sigma2):\n",
        "  return 1/(2*pi*sigma2)*exp(-(x-mu)**2/2*sigma2)\n",
        "def chi_square(x,k):\n",
        "  return (x**(k/2-1)*exp(-x/2))/(2**(k/2)*gamma(k/2)) if x>0 else 0\n",
        "def generate_C(x,s2,a,b):\n",
        "  m,K,S=len(x),len(a),len(b)\n",
        "  C=[]\n",
        "  c=[[0]*S for i in range(K)]\n",
        "  for r in range(m):\n",
        "    for i in range(K):\n",
        "      for j in range(S):\n",
        "        c[i][j]=gaussian(x[r],a[i],b[j])*chi_square((n-1)*s2[r]/b[j],n-1)\n",
        "    C.append(array(c))\n",
        "  return C\n",
        "\n"
      ],
      "execution_count": 7,
      "outputs": []
    },
    {
      "cell_type": "markdown",
      "metadata": {
        "id": "gAnYqUz8VSvY"
      },
      "source": [
        "#NEB(Nonelinear Empirical Bayes) class\n",
        "### 1.arguments:\n",
        "x\n",
        "s2\n",
        "a\n",
        "b\n",
        "### 2.functions:\n",
        "objection function\n",
        "\n",
        "gradient\n",
        "\n",
        "hessian\n",
        "\n"
      ]
    },
    {
      "cell_type": "code",
      "metadata": {
        "id": "K11XRNP7HGDL",
        "colab": {
          "base_uri": "https://localhost:8080/"
        },
        "outputId": "d7a1edd9-df0d-474e-9d25-4bc0c10f02e7"
      },
      "source": [
        "#@title\n",
        "class NEB():\n",
        "  x=None\n",
        "  n=20\n",
        "  s2=None\n",
        "  a=None\n",
        "  b=None\n",
        "  C=None\n",
        "\n",
        "  print(len('1'))\n",
        "  def __init__(self,x,s2,a,b,C):\n",
        "    self.x=x\n",
        "    self.s2=s2\n",
        "    self.a=a\n",
        "    self.b=b\n",
        "    self.C=C\n",
        "\n",
        "  def obj(self):\n",
        "    k=len(self.a)\n",
        "    C=self.C\n",
        "    print(C)\n",
        "    def obj(x):\n",
        "      res=1\n",
        "      for r in range(len(C)):\n",
        "        res=res*t(x[:k])@C[r]@x[k:]\n",
        "      return res\n",
        "    return obj\n",
        "  \n",
        "  def gradient(self):\n",
        "    C=self.C\n",
        "    K=len(self.a)\n",
        "    def l_gradient(g,h,r,i,tp):\n",
        "      if tp=='g':\n",
        "        res=(C[r][i]@h)/(t(g)@C[r]@h)\n",
        "      if tp=='h':\n",
        "        res=(t(g)@C[r][:,i])/(t(g)@C[r]@h)\n",
        "      return res\n",
        "    def gradient(x):\n",
        "      g,h=x[:K],x[K:]\n",
        "      res=[]\n",
        "      for i in range(len(x)):\n",
        "        if i<K:\n",
        "          s=sum(l_gradient(g,h,r,i,'g') for r in range(len(C)))\n",
        "        else:\n",
        "          s=sum(l_gradient(g,h,r,i-K,'h') for r in range(len(C)))\n",
        "        res.append(s)\n",
        "      return res\n",
        "    return gradient\n",
        "\n",
        "  def Hess(self):\n",
        "    K=len(self.a)\n",
        "    C=self.C\n",
        "    def Hess(x):\n",
        "      hess=[[0]*m for i in range(m)]\n",
        "      g,h=x[:K],x[K:]\n",
        "      def H11(i,j):\n",
        "        return -sum((t(h)@C[r][i])*(C[r][j]@h)/(t(g)@C[r]@h)**2 for r in range(len(C)))\n",
        "      def H22(i,j):\n",
        "        return -sum(t(g)@C[r][:,i]*t(C[r][:,j])@g/(t(g)@C[r]@h)**2 for r in range(len(C)))\n",
        "      def H12(i,j):\n",
        "        return sum(C[r][i][j]/(t(g)@C[r]@h)-t(g)@C[r][:,j]*C[r][i]@h/(t(g)@C[r]@h)**2 for r in range(len(C)))\n",
        "      def H21(i,j):\n",
        "        return sum(C[r][j][i]/(t(g)@C[r]@h)-t(g)@C[r][:,i]*C[r][j]@h/(t(g)@C[r]@h)**2 for r in range(len(C)))\n",
        "      for i in range(m):\n",
        "        for j in range(m):\n",
        "          if i<K:\n",
        "            if j<K: hess[i][j]=H11(i,j)\n",
        "            else: hess[i][j]=H12(i,j-K)\n",
        "          else:\n",
        "            if j<K: hess[i][j]=H21(i-K,j)\n",
        "            else: hess[i][j]=H22(i-K,j-K)\n",
        "      return hess\n",
        "    return Hess\n",
        "  def constraints(self):\n",
        "    constraint=[]\n",
        "    K,S=len(self.a),len(self.b)\n",
        "    constraint.append([1]*K+[0]*S)\n",
        "    constraint.append([0]*K+[1]*S)\n",
        "    bound0,bound1=[0]*(K+S),[np.inf]*(K+S)\n",
        "    return constraint,bound0,bound1\n"
      ],
      "execution_count": 3,
      "outputs": [
        {
          "output_type": "stream",
          "name": "stdout",
          "text": [
            "1\n"
          ]
        }
      ]
    },
    {
      "cell_type": "markdown",
      "metadata": {
        "id": "sLGMxwsXW7Rx"
      },
      "source": [
        "#Example"
      ]
    },
    {
      "cell_type": "code",
      "metadata": {
        "collapsed": true,
        "id": "tQIcBArXVBbP"
      },
      "source": [
        "m=50\n",
        "n=20\n",
        "x=np.random.normal(0,1,m)\n",
        "s2=np.random.chisquare(n-1,m)\n",
        "\n",
        "a=np.linspace(min(x),max(x),20)\n",
        "b=np.linspace(min(s2),max(s2),30)\n",
        "\n",
        "g=[1]*len(a)\n",
        "h=[1]*len(b)\n",
        "x=array(g+h)\n",
        "\n",
        "\n",
        "\n",
        "s=NEB(x,s2,a,b,generate_C(x,s2,a,b))\n",
        "\n",
        "Obj=s.obj()\n",
        "Grad=s.gradient()\n",
        "Hess=s.Hess()"
      ],
      "execution_count": null,
      "outputs": []
    },
    {
      "cell_type": "code",
      "metadata": {
        "id": "nftyXLXsa3wO"
      },
      "source": [
        "Obj(x)\n",
        "# s.C\n",
        "# ,Grad(x),Hess(x)\n",
        "constraints,bound0,bound1=s.constraints()"
      ],
      "execution_count": 9,
      "outputs": []
    },
    {
      "cell_type": "markdown",
      "metadata": {
        "id": "NLpaZyptXWN8"
      },
      "source": [
        "#Tools Camparing"
      ]
    },
    {
      "cell_type": "code",
      "metadata": {
        "id": "JNbc6O2OXwCt"
      },
      "source": [
        "# bound1\n",
        "\n",
        "linear_constraint=LinearConstraint(constraints,[1,1],[1,1])\n",
        "bounds=Bounds(bound0,bound1)"
      ],
      "execution_count": 10,
      "outputs": []
    },
    {
      "cell_type": "code",
      "metadata": {
        "colab": {
          "base_uri": "https://localhost:8080/"
        },
        "id": "L-3UhkpRHwwq",
        "outputId": "444cc8e0-2dfc-4a67-a38f-b21d7f8b279c"
      },
      "source": [
        "res = minimize(Obj, x, method='SLSQP', jac=Grad, hess=Hess,\n",
        "               constraints=linear_constraint,\n",
        "               options={'ftol': 1e-9, 'disp': True}, bounds=bounds)\n",
        "sum(res.x)"
      ],
      "execution_count": 11,
      "outputs": [
        {
          "output_type": "stream",
          "name": "stdout",
          "text": [
            "Optimization terminated successfully.    (Exit mode 0)\n",
            "            Current function value: 0.0\n",
            "            Iterations: 1\n",
            "            Function evaluations: 2\n",
            "            Gradient evaluations: 1\n"
          ]
        },
        {
          "output_type": "stream",
          "name": "stderr",
          "text": [
            "/usr/local/lib/python3.7/dist-packages/scipy/optimize/_minimize.py:511: RuntimeWarning: Method SLSQP does not use Hessian information (hess).\n",
            "  RuntimeWarning)\n"
          ]
        },
        {
          "output_type": "execute_result",
          "data": {
            "text/plain": [
              "2.0000000000033245"
            ]
          },
          "metadata": {},
          "execution_count": 11
        }
      ]
    }
  ]
}