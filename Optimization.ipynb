{
  "nbformat": 4,
  "nbformat_minor": 0,
  "metadata": {
    "colab": {
      "name": "Optimization.ipynb",
      "provenance": [],
      "authorship_tag": "ABX9TyPg2rZfncCFLegLXek5q56r",
      "include_colab_link": true
    },
    "kernelspec": {
      "name": "python3",
      "display_name": "Python 3"
    },
    "language_info": {
      "name": "python"
    }
  },
  "cells": [
    {
      "cell_type": "markdown",
      "metadata": {
        "id": "view-in-github",
        "colab_type": "text"
      },
      "source": [
        "<a href=\"https://colab.research.google.com/github/Guidong99/statistic-optimization/blob/main/Optimization.ipynb\" target=\"_parent\"><img src=\"https://colab.research.google.com/assets/colab-badge.svg\" alt=\"Open In Colab\"/></a>"
      ]
    },
    {
      "cell_type": "code",
      "metadata": {
        "id": "S2EtoPK3HslD"
      },
      "source": [
        "from numpy import transpose as t\n",
        "import numpy as np\n",
        "import pandas as pd\n",
        "\n",
        "\n",
        "    \n",
        "    "
      ],
      "execution_count": null,
      "outputs": []
    },
    {
      "cell_type": "code",
      "metadata": {
        "id": "QOYSubbYOolw"
      },
      "source": [
        "# def generate_C(a,b,x,s2):\n",
        "#   for i in \n",
        "\n",
        "\n",
        "g=[1,2,3]\n",
        "h=[3,4,4]\n",
        "C=[np.array([[1,2,3],[2,3,4],[2,4,2]]),np.array([[1,2,3],[6,3,4],[1,4,2]]),np.array([[1,0,1],[2,2,1],[2,4,2]])]\n",
        "# C=[np.array([[1,2,3],[2,3,4],[2,4,2]])]\n",
        "x=g+h\n",
        "k=len(g)\n",
        "#hyper-parameter C k \n",
        "\n",
        "def obj(x):\n",
        "  res=1\n",
        "  for r in range(len(C)):\n",
        "    res=res*t(x[:k])@C[r]@x[k:]\n",
        "  return res\n",
        "\n",
        "#dlog/dg_i\n",
        "def l_gradient(g,h,r,i,tp):\n",
        "  if tp=='g':\n",
        "    res=(C[r][i]@h)/(t(g)@C[r]@h)\n",
        "  if tp=='h':\n",
        "    res=(t(g)@C[r][:,i])/(t(g)@C[r]@h)\n",
        "  return res\n",
        "    \n",
        "#gradient vector\n",
        "  \n",
        "\n",
        "def gradient(x):\n",
        "  g,h=x[:k],x[k:]\n",
        "  res=[]\n",
        "  for i in range(len(x)):\n",
        "    if i<k:\n",
        "      s=sum(l_gradient(g,h,r,i,'g') for r in range(len(C)))\n",
        "    else:\n",
        "      s=sum(l_gradient(g,h,r,i-k,'h') for r in range(len(C)))\n",
        "    res.append(s)\n",
        "  return res\n",
        "\n",
        "\n",
        "#Hessian\n",
        "def Hess(x):\n",
        "  m=len(x)\n",
        "  hess=[[0]*m for i in range(m)]\n",
        "  g,h=x[:k],x[k:]\n",
        "  def H11(i,j):\n",
        "    return -sum(t(h)@t(C[r][i])*(C[r][j])@h/(t(g)@C[r]@h)**2 for r in range(len(C)))\n",
        "  def H22(i,j):\n",
        "    return -sum(t(g)@C[r][:,i]*t(C[r][:,j])@g/(t(g)@C[r]@h)**2 for r in range(len(C)))\n",
        "  def H12(i,j):\n",
        "    return sum(C[r][i][j]/(t(g)@C[r]@h)-t(g)@C[r][:,j]*C[r][i]@g/(t(g)@C[r]@h)**2 for r in range(len(C)))\n",
        "  def H21(i,j):\n",
        "    return sum(C[r][j][i]/(t(g)@C[r]@h)-t(g)@C[r][:,i]*C[r][j]@g/(t(g)@C[r]@h)**2 for r in range(len(C)))\n",
        "  for i in range(m):\n",
        "    for j in range(m):\n",
        "      if i<k:\n",
        "        if j<k: hess[i][j]=H11(i,j)\n",
        "        else: hess[i][j]=H12(i,j-k)\n",
        "      else:\n",
        "        if j<k: hess[i][j]=H21(i-k,j)\n",
        "        else: hess[i][j]=H22(i-k,j-k)\n",
        "  return hess\n"
      ],
      "execution_count": null,
      "outputs": []
    },
    {
      "cell_type": "code",
      "metadata": {
        "id": "jLf-aN23TEjP"
      },
      "source": [
        "##is postive definition?\n",
        "\n",
        "def is_pos_def(x):\n",
        "    return np.all(np.linalg.eigvals(x) > 0)"
      ],
      "execution_count": null,
      "outputs": []
    },
    {
      "cell_type": "code",
      "metadata": {
        "colab": {
          "base_uri": "https://localhost:8080/"
        },
        "id": "Nj2vKdu5LbjQ",
        "outputId": "03fce186-685d-4c57-e6ad-1ecca9652057"
      },
      "source": [
        "is_pos_def(Hess(x))"
      ],
      "execution_count": null,
      "outputs": [
        {
          "output_type": "execute_result",
          "data": {
            "text/plain": [
              "False"
            ]
          },
          "metadata": {},
          "execution_count": 282
        }
      ]
    },
    {
      "cell_type": "code",
      "metadata": {
        "colab": {
          "base_uri": "https://localhost:8080/"
        },
        "id": "oPFRbsdeRal8",
        "outputId": "6d3cf756-dcf2-4684-ba8c-1586bf2bffe3"
      },
      "source": [
        "obj(x)"
      ],
      "execution_count": null,
      "outputs": [
        {
          "output_type": "execute_result",
          "data": {
            "text/plain": [
              "4718308"
            ]
          },
          "metadata": {},
          "execution_count": 283
        }
      ]
    },
    {
      "cell_type": "code",
      "metadata": {
        "colab": {
          "base_uri": "https://localhost:8080/"
        },
        "id": "XOpNJ-QmHHYt",
        "outputId": "ae637c5c-4773-4922-e351-8646346a444b"
      },
      "source": [
        "gradient(x)"
      ],
      "execution_count": null,
      "outputs": [
        {
          "output_type": "execute_result",
          "data": {
            "text/plain": [
              "[0.29705034092729854,\n",
              " 0.5578775272830854,\n",
              " 0.5290648681688436,\n",
              " 0.22511290064150113,\n",
              " 0.3328388057752906,\n",
              " 0.2483265187435835]"
            ]
          },
          "metadata": {},
          "execution_count": 284
        }
      ]
    },
    {
      "cell_type": "code",
      "metadata": {
        "colab": {
          "base_uri": "https://localhost:8080/",
          "height": 230
        },
        "id": "kyDgq5balNwB",
        "outputId": "90bea000-450e-45c4-e92b-b09c523912ba"
      },
      "source": [
        "pd.DataFrame(Hess(x))"
      ],
      "execution_count": null,
      "outputs": [
        {
          "output_type": "execute_result",
          "data": {
            "text/html": [
              "<div>\n",
              "<style scoped>\n",
              "    .dataframe tbody tr th:only-of-type {\n",
              "        vertical-align: middle;\n",
              "    }\n",
              "\n",
              "    .dataframe tbody tr th {\n",
              "        vertical-align: top;\n",
              "    }\n",
              "\n",
              "    .dataframe thead th {\n",
              "        text-align: right;\n",
              "    }\n",
              "</style>\n",
              "<table border=\"1\" class=\"dataframe\">\n",
              "  <thead>\n",
              "    <tr style=\"text-align: right;\">\n",
              "      <th></th>\n",
              "      <th>0</th>\n",
              "      <th>1</th>\n",
              "      <th>2</th>\n",
              "      <th>3</th>\n",
              "      <th>4</th>\n",
              "      <th>5</th>\n",
              "    </tr>\n",
              "  </thead>\n",
              "  <tbody>\n",
              "    <tr>\n",
              "      <th>0</th>\n",
              "      <td>-0.032688</td>\n",
              "      <td>-0.058534</td>\n",
              "      <td>-0.049099</td>\n",
              "      <td>0.005127</td>\n",
              "      <td>0.001800</td>\n",
              "      <td>0.023904</td>\n",
              "    </tr>\n",
              "    <tr>\n",
              "      <th>1</th>\n",
              "      <td>-0.058534</td>\n",
              "      <td>-0.108684</td>\n",
              "      <td>-0.093992</td>\n",
              "      <td>0.034392</td>\n",
              "      <td>0.014073</td>\n",
              "      <td>0.024449</td>\n",
              "    </tr>\n",
              "    <tr>\n",
              "      <th>2</th>\n",
              "      <td>-0.049099</td>\n",
              "      <td>-0.093992</td>\n",
              "      <td>-0.097327</td>\n",
              "      <td>0.009620</td>\n",
              "      <td>0.040534</td>\n",
              "      <td>0.013210</td>\n",
              "    </tr>\n",
              "    <tr>\n",
              "      <th>3</th>\n",
              "      <td>0.005127</td>\n",
              "      <td>0.034392</td>\n",
              "      <td>0.009620</td>\n",
              "      <td>-0.017198</td>\n",
              "      <td>-0.024995</td>\n",
              "      <td>-0.018385</td>\n",
              "    </tr>\n",
              "    <tr>\n",
              "      <th>4</th>\n",
              "      <td>0.001800</td>\n",
              "      <td>0.014073</td>\n",
              "      <td>0.040534</td>\n",
              "      <td>-0.024995</td>\n",
              "      <td>-0.037094</td>\n",
              "      <td>-0.027369</td>\n",
              "    </tr>\n",
              "    <tr>\n",
              "      <th>5</th>\n",
              "      <td>0.023904</td>\n",
              "      <td>0.024449</td>\n",
              "      <td>0.013210</td>\n",
              "      <td>-0.018385</td>\n",
              "      <td>-0.027369</td>\n",
              "      <td>-0.020923</td>\n",
              "    </tr>\n",
              "  </tbody>\n",
              "</table>\n",
              "</div>"
            ],
            "text/plain": [
              "          0         1         2         3         4         5\n",
              "0 -0.032688 -0.058534 -0.049099  0.005127  0.001800  0.023904\n",
              "1 -0.058534 -0.108684 -0.093992  0.034392  0.014073  0.024449\n",
              "2 -0.049099 -0.093992 -0.097327  0.009620  0.040534  0.013210\n",
              "3  0.005127  0.034392  0.009620 -0.017198 -0.024995 -0.018385\n",
              "4  0.001800  0.014073  0.040534 -0.024995 -0.037094 -0.027369\n",
              "5  0.023904  0.024449  0.013210 -0.018385 -0.027369 -0.020923"
            ]
          },
          "metadata": {},
          "execution_count": 285
        }
      ]
    },
    {
      "cell_type": "markdown",
      "metadata": {
        "id": "IyhkG4XUyRLe"
      },
      "source": [
        "# 新段落"
      ]
    }
  ]
}